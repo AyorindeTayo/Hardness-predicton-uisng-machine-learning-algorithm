{
 "cells": [
  {
   "cell_type": "code",
   "execution_count": 46,
   "metadata": {},
   "outputs": [],
   "source": [
    "import pandas as pd\n",
    "import pylab as pl\n",
    "import numpy as np\n",
    "import scipy.optimize as opt\n",
    "from sklearn import preprocessing\n",
    "from sklearn.model_selection import train_test_split\n",
    "%matplotlib inline \n",
    "import matplotlib.pyplot as plt\n",
    "from sklearn import datasets\n",
    "from sklearn.metrics import mean_squared_error, r2_score, mean_absolute_error\n",
    "from sklearn import ensemble\n",
    "from sklearn.model_selection import cross_val_score\n",
    "from sklearn.model_selection import GridSearchCV \n",
    "# Best Hyperparameters identified using GridSearchCV with only ideal arguments implemented in all models\n"
   ]
  },
  {
   "cell_type": "code",
   "execution_count": 47,
   "metadata": {},
   "outputs": [],
   "source": [
    "df = pd.read_csv('data_1004.csv') #Combined ABX3 and A2BB'X6 Perovskite Structures.\n",
    "X=df.drop(\"Hardness\",1)\n",
    "df['Hardness'] = df['Hardness'].astype('float64') \n",
    "y = np.asarray(df['Hardness']) # Code simulated for predicting the energy bandgap."
   ]
  },
  {
   "cell_type": "code",
   "execution_count": 48,
   "metadata": {},
   "outputs": [],
   "source": [
    "# Model 1 - Gradient boosting regression (GBR)\n",
    "from sklearn.ensemble import GradientBoostingRegressor\n",
    "X_train1, X_test1, y_train1, y_test1 = train_test_split( X, y, test_size=0.1, random_state=9)\n",
    "gbr = GridSearchCV (GradientBoostingRegressor (),{\n",
    "    'n_estimators': [2000], 'max_depth': [2], 'min_samples_split': [2], 'learning_rate': [0.1],\n",
    "    'loss': ['ls'], 'random_state':[72]}, cv=5)\n",
    "gbr.fit(X_train1, y_train1)\n",
    "y_predicted1 = gbr.predict(X_test1)\n",
    "gbr_score = gbr.score(X_train1,y_train1)\n",
    "gbr_score1 = gbr.score(X_test1,y_test1)"
   ]
  },
  {
   "cell_type": "code",
   "execution_count": 49,
   "metadata": {},
   "outputs": [],
   "source": [
    "# Model 2 - Kernel Ridge Regression (KRR)\n",
    "from sklearn.kernel_ridge import KernelRidge\n",
    "X_train2, X_test2, y_train2, y_test2 = train_test_split( X, y, test_size=0.1, random_state=9)\n",
    "krr = GridSearchCV (KernelRidge (),{ 'alpha':[0.001],'kernel':['linear']}, cv=5)\n",
    "krr.fit(X_train2, y_train2)\n",
    "y_predicted2 = krr.predict(X_test2)\n",
    "krr_score = krr.score(X_train2,y_train2)\n",
    "krr_score1 = krr.score(X_test2,y_test2)"
   ]
  },
  {
   "cell_type": "code",
   "execution_count": 50,
   "metadata": {},
   "outputs": [],
   "source": [
    "# Model 3 - Support Vector Regression (SVR)\n",
    "from sklearn.svm import SVR\n",
    "from sklearn.pipeline import Pipeline\n",
    "from sklearn.pipeline import make_pipeline\n",
    "from sklearn.preprocessing import StandardScaler\n",
    "X_train3, X_test3, y_train3, y_test3 = train_test_split( X, y, test_size=0.1, random_state=10)\n",
    "steps = [('scaler', StandardScaler()), ('SVM', SVR())]\n",
    "pipeline = Pipeline(steps) \n",
    "grid = GridSearchCV(pipeline, param_grid= {'SVM__C':[100], 'SVM__gamma':['auto'], 'SVM__kernel': ['rbf'],\n",
    "                                           'SVM__epsilon':[0.001]}, cv=5)\n",
    "grid.fit(X_train3, y_train3)\n",
    "svr_score = grid.score(X_train3,y_train3)\n",
    "svr_score1 = grid.score(X_test3,y_test3)\n",
    "y_predicted3 = grid.predict(X_test3)"
   ]
  },
  {
   "cell_type": "code",
   "execution_count": 51,
   "metadata": {},
   "outputs": [],
   "source": [
    "# Model 4 - Decision Tree Regression (DTR)\n",
    "from sklearn.tree import DecisionTreeRegressor\n",
    "X_train4, X_test4, y_train4, y_test4 = train_test_split( X, y, test_size=0.1, random_state=9)\n",
    "dtr = GridSearchCV (DecisionTreeRegressor(),{\n",
    "    'criterion':['friedman_mse'], 'random_state':[72], 'splitter':['best'], 'max_depth':[None]}, cv=5)\n",
    "dtr.fit(X_train4, y_train4)\n",
    "dtr_score = dtr.score(X_train4,y_train4)\n",
    "dtr_score1 = dtr.score(X_test4,y_test4)\n",
    "y_predicted4 = dtr.predict(X_test4)\n"
   ]
  },
  {
   "cell_type": "code",
   "execution_count": 52,
   "metadata": {},
   "outputs": [],
   "source": [
    "# Model 5 - AdaBoost Regression (ABR)\n",
    "from sklearn.ensemble import AdaBoostRegressor\n",
    "X_train5, X_test5, y_train5, y_test5 = train_test_split( X, y, test_size=0.1, random_state=9)\n",
    "abr = GridSearchCV (AdaBoostRegressor (),{\n",
    "    'random_state':[0], 'n_estimators':[1000], 'learning_rate':[0.001], 'loss': ['exponential']}, cv=5)\n",
    "abr.fit(X_train5, y_train5)\n",
    "abr_score = abr.score(X_train5,y_train5)\n",
    "abr_score1 = abr.score(X_test5,y_test5)\n",
    "y_predicted5 = abr.predict(X_test5)\n"
   ]
  },
  {
   "cell_type": "code",
   "execution_count": 53,
   "metadata": {},
   "outputs": [],
   "source": [
    "# Model 6 - Bayesian Ridge (BR)\n",
    "from sklearn import linear_model\n",
    "X_train6, X_test6, y_train6, y_test6 = train_test_split( X, y, test_size=0.1, random_state=9)\n",
    "br = GridSearchCV (linear_model.BayesianRidge(),{'tol':[1e-3]}, cv=5)\n",
    "br.fit(X_train6, y_train6)\n",
    "br_score = br.score(X_train6,y_train6)\n",
    "br_score1 = br.score(X_test6,y_test6)\n",
    "y_predicted6 = br.predict(X_test6)\n"
   ]
  },
  {
   "cell_type": "code",
   "execution_count": 54,
   "metadata": {},
   "outputs": [],
   "source": [
    "# Model 7 - Multilayer Perceptron (MLP)\n",
    "from sklearn.neural_network import MLPRegressor\n",
    "X_train7, X_test7, y_train7, y_test7 = train_test_split( X, y, test_size=0.1, random_state=9)\n",
    "mlp = GridSearchCV (MLPRegressor (),{\n",
    "    'random_state':[0], 'max_iter':[10000], 'alpha':[0.001],}, cv=5)\n",
    "mlp.fit(X_train7, y_train7)\n",
    "mlp_score = mlp.score(X_train7,y_train7)\n",
    "mlp_score1 = mlp.score(X_test7,y_test7)\n",
    "y_predicted7 = mlp.predict(X_test7)"
   ]
  },
  {
   "cell_type": "code",
   "execution_count": 55,
   "metadata": {},
   "outputs": [],
   "source": [
    "# Model 8 - Random Forest Regression (RFR)\n",
    "from sklearn.ensemble import RandomForestRegressor\n",
    "X_train8, X_test8, y_train8, y_test8 = train_test_split( X, y, test_size=0.1, random_state=9)\n",
    "rfr = GridSearchCV (RandomForestRegressor(),{'max_depth':[None], 'random_state':[0], 'criterion':['mse']\n",
    "                                             }, cv=5)\n",
    "rfr.fit(X_train8, y_train8)\n",
    "rfr_score = rfr.score(X_train8,y_train8)\n",
    "rfr_score1 = rfr.score(X_test8,y_test8)\n",
    "y_predicted8 = rfr.predict(X_test8)"
   ]
  },
  {
   "cell_type": "code",
   "execution_count": 56,
   "metadata": {},
   "outputs": [],
   "source": [
    "# Model 9 - K-Nearest Neighbor (KNR)\n",
    "from sklearn.neighbors import KNeighborsRegressor\n",
    "X_train9, X_test9, y_train9, y_test9 = train_test_split( X, y, test_size=0.1, random_state=9)\n",
    "knr = GridSearchCV (KNeighborsRegressor(),{'n_neighbors':[4]}, cv=5)\n",
    "knr.fit(X_train9, y_train9)\n",
    "knr_score = knr.score(X_train9,y_train9)\n",
    "knr_score1 = knr.score(X_test9,y_test9)\n",
    "y_predicted9 = knr.predict(X_test9)"
   ]
  },
  {
   "cell_type": "code",
   "execution_count": 57,
   "metadata": {},
   "outputs": [],
   "source": [
    "# Model 10 - Passive Aggressive Regression (PAR)\n",
    "from sklearn.linear_model import PassiveAggressiveRegressor\n",
    "X_train10, X_test10, y_train10, y_test10 = train_test_split( X, y, test_size=0.1, random_state=9)\n",
    "par = GridSearchCV (PassiveAggressiveRegressor(),{'max_iter':[1000], 'random_state':[10], 'tol':[1e-10]},\n",
    "                   cv=5)\n",
    "par.fit(X_train10, y_train10)\n",
    "par_score = par.score(X_train10,y_train10)\n",
    "par_score1 = par.score(X_test10,y_test10)\n",
    "y_predicted10 = par.predict(X_test10)\n"
   ]
  },
  {
   "cell_type": "code",
   "execution_count": 58,
   "metadata": {},
   "outputs": [],
   "source": [
    "# Model 11 - Gaussian Process Regression (GPR)\n",
    "from sklearn.gaussian_process import GaussianProcessRegressor\n",
    "X_train11, X_test11, y_train11, y_test11 = train_test_split( X, y, test_size=0.1, random_state=7)\n",
    "gpr = GridSearchCV (GaussianProcessRegressor(), {}, cv=5)\n",
    "gpr.fit(X_train11, y_train11)\n",
    "gpr_score = gpr.score(X_train11,y_train11)\n",
    "gpr_score1 = gpr.score(X_test11,y_test11)\n",
    "y_predicted11 = gpr.predict(X_test11)\n"
   ]
  },
  {
   "cell_type": "code",
   "execution_count": 59,
   "metadata": {},
   "outputs": [
    {
     "name": "stdout",
     "output_type": "stream",
     "text": [
      "GBR Model| R2 sq on train set: 0.4959\n",
      "GBR Model| R2 sq on test set: 0.3081\n",
      "GBR Model| MSE on test set: 155.9397\n",
      "GBR Model| MAE on test set: 11.3926\n",
      "---------------------------------\n",
      "KRR Model| R2 sq on train set: 0.4959\n",
      "KRR Model| R2 sq on test set: 0.3081\n",
      "KRR Model| MSE on test set: 155.9407\n",
      "KRR Model| MAE on test set: 11.3926\n",
      "---------------------------------\n",
      "SVR Model| R2 sq on train set: 0.5331\n",
      "SVR Model| R2 sq on test set: -18.0094\n",
      "SVR Model| MSE on test set: 253.6270\n",
      "SVR Model| MAE on test set: 11.1006\n",
      "---------------------------------\n",
      "DTR Model| R2 sq on train set: 0.4959\n",
      "DTR Model| R2 sq on test set: 0.3081\n",
      "DTR Model| MSE on test set: 155.9397\n",
      "DTR Model| MAE on test set: 11.3926\n",
      "---------------------------------\n",
      "ABR Model| R2 sq on train set: 0.4955\n",
      "ABR Model| R2 sq on test set: 0.3251\n",
      "ABR Model| MSE on test set: 152.0976\n",
      "ABR Model| MAE on test set: 11.2875\n",
      "---------------------------------\n",
      "BR Model| R2 sq on train set: 0.4877\n",
      "BR Model| R2 sq on test set: 0.4037\n",
      "BR Model| MSE on test set: 134.4016\n",
      "BR Model| MAE on test set: 10.9008\n",
      "---------------------------------\n",
      "MLP Model| R2 sq on train set: -6.6073\n",
      "MLP Model| R2 sq on test set: -14.4749\n",
      "MLP Model| MSE on test set: 3487.6595\n",
      "MLP Model| MAE on test set: 43.5421\n",
      "---------------------------------\n",
      "RFR Model| R2 sq on train set: 0.4936\n",
      "RFR Model| R2 sq on test set: 0.2896\n",
      "RFR Model| MSE on test set: 160.1064\n",
      "RFR Model| MAE on test set: 11.5792\n",
      "---------------------------------\n",
      "KNR Model| R2 sq on train set: 0.4707\n",
      "KNR Model| R2 sq on test set: -0.0405\n",
      "KNR Model| MSE on test set: 234.5096\n",
      "KNR Model| MAE on test set: 12.2833\n",
      "---------------------------------\n",
      "PAR Model| R2 sq on train set: -1.1224\n",
      "PAR Model| R2 sq on test set: -4.2683\n",
      "PAR Model| MSE on test set: 1187.3404\n",
      "PAR Model| MAE on test set: 26.8138\n",
      "---------------------------------\n",
      "GPR Model| R2 sq on train set: 0.4763\n",
      "GPR Model| R2 sq on test set: -4.2224\n",
      "GPR Model| MSE on test set: 12.6731\n",
      "GPR Model| MAE on test set: 2.9945\n",
      "---------------------------------\n"
     ]
    },
    {
     "ename": "NameError",
     "evalue": "name 'sgd_score' is not defined",
     "output_type": "error",
     "traceback": [
      "\u001b[1;31m---------------------------------------------------------------------------\u001b[0m",
      "\u001b[1;31mNameError\u001b[0m                                 Traceback (most recent call last)",
      "\u001b[1;32m<ipython-input-59-35775f1a8718>\u001b[0m in \u001b[0;36m<module>\u001b[1;34m()\u001b[0m\n\u001b[0;32m     55\u001b[0m \u001b[0mprint\u001b[0m\u001b[1;33m(\u001b[0m\u001b[1;34m'GPR Model| MAE on test set: %.4f'\u001b[0m\u001b[1;33m%\u001b[0m \u001b[0mmean_absolute_error\u001b[0m\u001b[1;33m(\u001b[0m\u001b[0my_test11\u001b[0m\u001b[1;33m,\u001b[0m \u001b[0my_predicted11\u001b[0m\u001b[1;33m)\u001b[0m\u001b[1;33m)\u001b[0m\u001b[1;33m\u001b[0m\u001b[0m\n\u001b[0;32m     56\u001b[0m \u001b[0mprint\u001b[0m \u001b[1;33m(\u001b[0m\u001b[1;34m\"---------------------------------\"\u001b[0m\u001b[1;33m)\u001b[0m\u001b[1;33m\u001b[0m\u001b[0m\n\u001b[1;32m---> 57\u001b[1;33m \u001b[0mprint\u001b[0m\u001b[1;33m(\u001b[0m\u001b[1;34m'SGD Model| R2 sq on train set: %.4f'\u001b[0m\u001b[1;33m%\u001b[0m \u001b[0msgd_score\u001b[0m\u001b[1;33m)\u001b[0m\u001b[1;33m\u001b[0m\u001b[0m\n\u001b[0m\u001b[0;32m     58\u001b[0m \u001b[0mprint\u001b[0m\u001b[1;33m(\u001b[0m\u001b[1;34m'SGD Model| R2 sq on test set: %.4f'\u001b[0m\u001b[1;33m%\u001b[0m \u001b[0msgd_score1\u001b[0m\u001b[1;33m)\u001b[0m\u001b[1;33m\u001b[0m\u001b[0m\n\u001b[0;32m     59\u001b[0m \u001b[0mprint\u001b[0m\u001b[1;33m(\u001b[0m\u001b[1;34m'SGD Model| MSE on test set: %.4f'\u001b[0m\u001b[1;33m%\u001b[0m \u001b[0mmean_squared_error\u001b[0m\u001b[1;33m(\u001b[0m\u001b[0my_test12\u001b[0m\u001b[1;33m,\u001b[0m \u001b[0my_predicted12\u001b[0m\u001b[1;33m)\u001b[0m\u001b[1;33m)\u001b[0m\u001b[1;33m\u001b[0m\u001b[0m\n",
      "\u001b[1;31mNameError\u001b[0m: name 'sgd_score' is not defined"
     ]
    }
   ],
   "source": [
    "# Standard Accuracy Results\n",
    "print('GBR Model| R2 sq on train set: %.4f'% gbr_score)\n",
    "print('GBR Model| R2 sq on test set: %.4f'% gbr_score1)\n",
    "print(\"GBR Model| MSE on test set: %.4f\"% mean_squared_error(y_test1, y_predicted1))\n",
    "print(\"GBR Model| MAE on test set: %.4f\"% mean_absolute_error(y_test1, y_predicted1))\n",
    "print (\"---------------------------------\")\n",
    "print('KRR Model| R2 sq on train set: %.4f'% krr_score)\n",
    "print('KRR Model| R2 sq on test set: %.4f'% krr_score1)\n",
    "print('KRR Model| MSE on test set: %.4f'% mean_squared_error(y_test2, y_predicted2))\n",
    "print('KRR Model| MAE on test set: %.4f'% mean_absolute_error(y_test2, y_predicted2))\n",
    "print (\"---------------------------------\")\n",
    "print('SVR Model| R2 sq on train set: %.4f'% svr_score)\n",
    "print('SVR Model| R2 sq on test set: %.4f'% svr_score1)\n",
    "print('SVR Model| MSE on test set: %.4f'% mean_squared_error(y_test3, y_predicted3))\n",
    "print('SVR Model| MAE on test set: %.4f'% mean_absolute_error(y_test3, y_predicted3))\n",
    "print (\"---------------------------------\")\n",
    "print('DTR Model| R2 sq on train set: %.4f'% dtr_score)\n",
    "print('DTR Model| R2 sq on test set: %.4f'% dtr_score1)\n",
    "print('DTR Model| MSE on test set: %.4f'% mean_squared_error(y_test4, y_predicted4))\n",
    "print('DTR Model| MAE on test set: %.4f'% mean_absolute_error(y_test4, y_predicted4))\n",
    "print (\"---------------------------------\")\n",
    "print('ABR Model| R2 sq on train set: %.4f'% abr_score)\n",
    "print('ABR Model| R2 sq on test set: %.4f'% abr_score1)\n",
    "print('ABR Model| MSE on test set: %.4f'% mean_squared_error(y_test5, y_predicted5))\n",
    "print('ABR Model| MAE on test set: %.4f'% mean_absolute_error(y_test5, y_predicted5))\n",
    "print (\"---------------------------------\")\n",
    "print('BR Model| R2 sq on train set: %.4f'% br_score)\n",
    "print('BR Model| R2 sq on test set: %.4f'% br_score1)\n",
    "print('BR Model| MSE on test set: %.4f'% mean_squared_error(y_test6, y_predicted6))\n",
    "print('BR Model| MAE on test set: %.4f'% mean_absolute_error(y_test6, y_predicted6))\n",
    "print (\"---------------------------------\")\n",
    "print('MLP Model| R2 sq on train set: %.4f'% mlp_score)\n",
    "print('MLP Model| R2 sq on test set: %.4f'% mlp_score1)\n",
    "print('MLP Model| MSE on test set: %.4f'% mean_squared_error(y_test7, y_predicted7))\n",
    "print('MLP Model| MAE on test set: %.4f'% mean_absolute_error(y_test7, y_predicted7))\n",
    "print (\"---------------------------------\")\n",
    "print('RFR Model| R2 sq on train set: %.4f'% rfr_score)\n",
    "print('RFR Model| R2 sq on test set: %.4f'% rfr_score1)\n",
    "print('RFR Model| MSE on test set: %.4f'% mean_squared_error(y_test8, y_predicted8))\n",
    "print('RFR Model| MAE on test set: %.4f'% mean_absolute_error(y_test8, y_predicted8))\n",
    "print (\"---------------------------------\")\n",
    "print('KNR Model| R2 sq on train set: %.4f'% knr_score)\n",
    "print('KNR Model| R2 sq on test set: %.4f'% knr_score1)\n",
    "print('KNR Model| MSE on test set: %.4f'% mean_squared_error(y_test9, y_predicted9))\n",
    "print('KNR Model| MAE on test set: %.4f'% mean_absolute_error(y_test9, y_predicted9))\n",
    "print (\"---------------------------------\")\n",
    "print('PAR Model| R2 sq on train set: %.4f'% par_score)\n",
    "print('PAR Model| R2 sq on test set: %.4f'% par_score1)\n",
    "print('PAR Model| MSE on test set: %.4f'% mean_squared_error(y_test10, y_predicted10))\n",
    "print('PAR Model| MAE on test set: %.4f'% mean_absolute_error(y_test10, y_predicted10))\n",
    "print (\"---------------------------------\")\n",
    "print('GPR Model| R2 sq on train set: %.4f'% gpr_score)\n",
    "print('GPR Model| R2 sq on test set: %.4f'% gpr_score1)\n",
    "print('GPR Model| MSE on test set: %.4f'% mean_squared_error(y_test11, y_predicted11))\n",
    "print('GPR Model| MAE on test set: %.4f'% mean_absolute_error(y_test11, y_predicted11))\n",
    "print (\"---------------------------------\")\n",
    "print('SGD Model| R2 sq on train set: %.4f'% sgd_score)\n",
    "print('SGD Model| R2 sq on test set: %.4f'% sgd_score1)\n",
    "print('SGD Model| MSE on test set: %.4f'% mean_squared_error(y_test12, y_predicted12))\n",
    "print('SGD Model| MAE on test set: %.4f'% mean_absolute_error(y_test12, y_predicted12))"
   ]
  },
  {
   "cell_type": "code",
   "execution_count": null,
   "metadata": {},
   "outputs": [],
   "source": []
  },
  {
   "cell_type": "code",
   "execution_count": null,
   "metadata": {},
   "outputs": [],
   "source": []
  }
 ],
 "metadata": {
  "kernelspec": {
   "display_name": "Python 3",
   "language": "python",
   "name": "python3"
  },
  "language_info": {
   "codemirror_mode": {
    "name": "ipython",
    "version": 3
   },
   "file_extension": ".py",
   "mimetype": "text/x-python",
   "name": "python",
   "nbconvert_exporter": "python",
   "pygments_lexer": "ipython3",
   "version": "3.6.5"
  }
 },
 "nbformat": 4,
 "nbformat_minor": 2
}
